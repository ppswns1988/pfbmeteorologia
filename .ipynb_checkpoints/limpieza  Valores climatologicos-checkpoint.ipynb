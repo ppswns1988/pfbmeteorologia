{
 "cells": [
  {
   "cell_type": "code",
   "execution_count": 1,
   "id": "14ffa9b4-23c8-4598-86a4-e8dc07fb3e4f",
   "metadata": {
    "tags": []
   },
   "outputs": [],
   "source": [
    "import pandas as pd\n",
    "import matplotlib.pyplot as plt\n",
    "import numpy as np"
   ]
  },
  {
   "cell_type": "markdown",
   "id": "da0d30af-d041-4895-958a-420610c4dfc6",
   "metadata": {},
   "source": [
    "# VALORES CLIMATOLOGICOS "
   ]
  },
  {
   "cell_type": "markdown",
   "id": "2ab39406-3ead-49d0-915e-47d95a8098f6",
   "metadata": {},
   "source": [
    "## 2022"
   ]
  },
  {
   "cell_type": "code",
   "execution_count": 4,
   "id": "b391f7cc-8a9c-42fa-8a10-c46df5fc2aa3",
   "metadata": {
    "tags": []
   },
   "outputs": [
    {
     "ename": "FileNotFoundError",
     "evalue": "[Errno 2] No such file or directory: 'valores_climatologicos_2022.csv'",
     "output_type": "error",
     "traceback": [
      "\u001b[0;31m---------------------------------------------------------------------------\u001b[0m",
      "\u001b[0;31mFileNotFoundError\u001b[0m                         Traceback (most recent call last)",
      "Cell \u001b[0;32mIn[4], line 1\u001b[0m\n\u001b[0;32m----> 1\u001b[0m valores_2022 \u001b[38;5;241m=\u001b[39m pd\u001b[38;5;241m.\u001b[39mread_csv(\u001b[38;5;124m\"\u001b[39m\u001b[38;5;124mvalores_climatologicos_2022.csv\u001b[39m\u001b[38;5;124m\"\u001b[39m)\n\u001b[1;32m      3\u001b[0m valores_2022\n",
      "File \u001b[0;32m/opt/anaconda3/lib/python3.12/site-packages/pandas/io/parsers/readers.py:1026\u001b[0m, in \u001b[0;36mread_csv\u001b[0;34m(filepath_or_buffer, sep, delimiter, header, names, index_col, usecols, dtype, engine, converters, true_values, false_values, skipinitialspace, skiprows, skipfooter, nrows, na_values, keep_default_na, na_filter, verbose, skip_blank_lines, parse_dates, infer_datetime_format, keep_date_col, date_parser, date_format, dayfirst, cache_dates, iterator, chunksize, compression, thousands, decimal, lineterminator, quotechar, quoting, doublequote, escapechar, comment, encoding, encoding_errors, dialect, on_bad_lines, delim_whitespace, low_memory, memory_map, float_precision, storage_options, dtype_backend)\u001b[0m\n\u001b[1;32m   1013\u001b[0m kwds_defaults \u001b[38;5;241m=\u001b[39m _refine_defaults_read(\n\u001b[1;32m   1014\u001b[0m     dialect,\n\u001b[1;32m   1015\u001b[0m     delimiter,\n\u001b[0;32m   (...)\u001b[0m\n\u001b[1;32m   1022\u001b[0m     dtype_backend\u001b[38;5;241m=\u001b[39mdtype_backend,\n\u001b[1;32m   1023\u001b[0m )\n\u001b[1;32m   1024\u001b[0m kwds\u001b[38;5;241m.\u001b[39mupdate(kwds_defaults)\n\u001b[0;32m-> 1026\u001b[0m \u001b[38;5;28;01mreturn\u001b[39;00m _read(filepath_or_buffer, kwds)\n",
      "File \u001b[0;32m/opt/anaconda3/lib/python3.12/site-packages/pandas/io/parsers/readers.py:620\u001b[0m, in \u001b[0;36m_read\u001b[0;34m(filepath_or_buffer, kwds)\u001b[0m\n\u001b[1;32m    617\u001b[0m _validate_names(kwds\u001b[38;5;241m.\u001b[39mget(\u001b[38;5;124m\"\u001b[39m\u001b[38;5;124mnames\u001b[39m\u001b[38;5;124m\"\u001b[39m, \u001b[38;5;28;01mNone\u001b[39;00m))\n\u001b[1;32m    619\u001b[0m \u001b[38;5;66;03m# Create the parser.\u001b[39;00m\n\u001b[0;32m--> 620\u001b[0m parser \u001b[38;5;241m=\u001b[39m TextFileReader(filepath_or_buffer, \u001b[38;5;241m*\u001b[39m\u001b[38;5;241m*\u001b[39mkwds)\n\u001b[1;32m    622\u001b[0m \u001b[38;5;28;01mif\u001b[39;00m chunksize \u001b[38;5;129;01mor\u001b[39;00m iterator:\n\u001b[1;32m    623\u001b[0m     \u001b[38;5;28;01mreturn\u001b[39;00m parser\n",
      "File \u001b[0;32m/opt/anaconda3/lib/python3.12/site-packages/pandas/io/parsers/readers.py:1620\u001b[0m, in \u001b[0;36mTextFileReader.__init__\u001b[0;34m(self, f, engine, **kwds)\u001b[0m\n\u001b[1;32m   1617\u001b[0m     \u001b[38;5;28mself\u001b[39m\u001b[38;5;241m.\u001b[39moptions[\u001b[38;5;124m\"\u001b[39m\u001b[38;5;124mhas_index_names\u001b[39m\u001b[38;5;124m\"\u001b[39m] \u001b[38;5;241m=\u001b[39m kwds[\u001b[38;5;124m\"\u001b[39m\u001b[38;5;124mhas_index_names\u001b[39m\u001b[38;5;124m\"\u001b[39m]\n\u001b[1;32m   1619\u001b[0m \u001b[38;5;28mself\u001b[39m\u001b[38;5;241m.\u001b[39mhandles: IOHandles \u001b[38;5;241m|\u001b[39m \u001b[38;5;28;01mNone\u001b[39;00m \u001b[38;5;241m=\u001b[39m \u001b[38;5;28;01mNone\u001b[39;00m\n\u001b[0;32m-> 1620\u001b[0m \u001b[38;5;28mself\u001b[39m\u001b[38;5;241m.\u001b[39m_engine \u001b[38;5;241m=\u001b[39m \u001b[38;5;28mself\u001b[39m\u001b[38;5;241m.\u001b[39m_make_engine(f, \u001b[38;5;28mself\u001b[39m\u001b[38;5;241m.\u001b[39mengine)\n",
      "File \u001b[0;32m/opt/anaconda3/lib/python3.12/site-packages/pandas/io/parsers/readers.py:1880\u001b[0m, in \u001b[0;36mTextFileReader._make_engine\u001b[0;34m(self, f, engine)\u001b[0m\n\u001b[1;32m   1878\u001b[0m     \u001b[38;5;28;01mif\u001b[39;00m \u001b[38;5;124m\"\u001b[39m\u001b[38;5;124mb\u001b[39m\u001b[38;5;124m\"\u001b[39m \u001b[38;5;129;01mnot\u001b[39;00m \u001b[38;5;129;01min\u001b[39;00m mode:\n\u001b[1;32m   1879\u001b[0m         mode \u001b[38;5;241m+\u001b[39m\u001b[38;5;241m=\u001b[39m \u001b[38;5;124m\"\u001b[39m\u001b[38;5;124mb\u001b[39m\u001b[38;5;124m\"\u001b[39m\n\u001b[0;32m-> 1880\u001b[0m \u001b[38;5;28mself\u001b[39m\u001b[38;5;241m.\u001b[39mhandles \u001b[38;5;241m=\u001b[39m get_handle(\n\u001b[1;32m   1881\u001b[0m     f,\n\u001b[1;32m   1882\u001b[0m     mode,\n\u001b[1;32m   1883\u001b[0m     encoding\u001b[38;5;241m=\u001b[39m\u001b[38;5;28mself\u001b[39m\u001b[38;5;241m.\u001b[39moptions\u001b[38;5;241m.\u001b[39mget(\u001b[38;5;124m\"\u001b[39m\u001b[38;5;124mencoding\u001b[39m\u001b[38;5;124m\"\u001b[39m, \u001b[38;5;28;01mNone\u001b[39;00m),\n\u001b[1;32m   1884\u001b[0m     compression\u001b[38;5;241m=\u001b[39m\u001b[38;5;28mself\u001b[39m\u001b[38;5;241m.\u001b[39moptions\u001b[38;5;241m.\u001b[39mget(\u001b[38;5;124m\"\u001b[39m\u001b[38;5;124mcompression\u001b[39m\u001b[38;5;124m\"\u001b[39m, \u001b[38;5;28;01mNone\u001b[39;00m),\n\u001b[1;32m   1885\u001b[0m     memory_map\u001b[38;5;241m=\u001b[39m\u001b[38;5;28mself\u001b[39m\u001b[38;5;241m.\u001b[39moptions\u001b[38;5;241m.\u001b[39mget(\u001b[38;5;124m\"\u001b[39m\u001b[38;5;124mmemory_map\u001b[39m\u001b[38;5;124m\"\u001b[39m, \u001b[38;5;28;01mFalse\u001b[39;00m),\n\u001b[1;32m   1886\u001b[0m     is_text\u001b[38;5;241m=\u001b[39mis_text,\n\u001b[1;32m   1887\u001b[0m     errors\u001b[38;5;241m=\u001b[39m\u001b[38;5;28mself\u001b[39m\u001b[38;5;241m.\u001b[39moptions\u001b[38;5;241m.\u001b[39mget(\u001b[38;5;124m\"\u001b[39m\u001b[38;5;124mencoding_errors\u001b[39m\u001b[38;5;124m\"\u001b[39m, \u001b[38;5;124m\"\u001b[39m\u001b[38;5;124mstrict\u001b[39m\u001b[38;5;124m\"\u001b[39m),\n\u001b[1;32m   1888\u001b[0m     storage_options\u001b[38;5;241m=\u001b[39m\u001b[38;5;28mself\u001b[39m\u001b[38;5;241m.\u001b[39moptions\u001b[38;5;241m.\u001b[39mget(\u001b[38;5;124m\"\u001b[39m\u001b[38;5;124mstorage_options\u001b[39m\u001b[38;5;124m\"\u001b[39m, \u001b[38;5;28;01mNone\u001b[39;00m),\n\u001b[1;32m   1889\u001b[0m )\n\u001b[1;32m   1890\u001b[0m \u001b[38;5;28;01massert\u001b[39;00m \u001b[38;5;28mself\u001b[39m\u001b[38;5;241m.\u001b[39mhandles \u001b[38;5;129;01mis\u001b[39;00m \u001b[38;5;129;01mnot\u001b[39;00m \u001b[38;5;28;01mNone\u001b[39;00m\n\u001b[1;32m   1891\u001b[0m f \u001b[38;5;241m=\u001b[39m \u001b[38;5;28mself\u001b[39m\u001b[38;5;241m.\u001b[39mhandles\u001b[38;5;241m.\u001b[39mhandle\n",
      "File \u001b[0;32m/opt/anaconda3/lib/python3.12/site-packages/pandas/io/common.py:873\u001b[0m, in \u001b[0;36mget_handle\u001b[0;34m(path_or_buf, mode, encoding, compression, memory_map, is_text, errors, storage_options)\u001b[0m\n\u001b[1;32m    868\u001b[0m \u001b[38;5;28;01melif\u001b[39;00m \u001b[38;5;28misinstance\u001b[39m(handle, \u001b[38;5;28mstr\u001b[39m):\n\u001b[1;32m    869\u001b[0m     \u001b[38;5;66;03m# Check whether the filename is to be opened in binary mode.\u001b[39;00m\n\u001b[1;32m    870\u001b[0m     \u001b[38;5;66;03m# Binary mode does not support 'encoding' and 'newline'.\u001b[39;00m\n\u001b[1;32m    871\u001b[0m     \u001b[38;5;28;01mif\u001b[39;00m ioargs\u001b[38;5;241m.\u001b[39mencoding \u001b[38;5;129;01mand\u001b[39;00m \u001b[38;5;124m\"\u001b[39m\u001b[38;5;124mb\u001b[39m\u001b[38;5;124m\"\u001b[39m \u001b[38;5;129;01mnot\u001b[39;00m \u001b[38;5;129;01min\u001b[39;00m ioargs\u001b[38;5;241m.\u001b[39mmode:\n\u001b[1;32m    872\u001b[0m         \u001b[38;5;66;03m# Encoding\u001b[39;00m\n\u001b[0;32m--> 873\u001b[0m         handle \u001b[38;5;241m=\u001b[39m \u001b[38;5;28mopen\u001b[39m(\n\u001b[1;32m    874\u001b[0m             handle,\n\u001b[1;32m    875\u001b[0m             ioargs\u001b[38;5;241m.\u001b[39mmode,\n\u001b[1;32m    876\u001b[0m             encoding\u001b[38;5;241m=\u001b[39mioargs\u001b[38;5;241m.\u001b[39mencoding,\n\u001b[1;32m    877\u001b[0m             errors\u001b[38;5;241m=\u001b[39merrors,\n\u001b[1;32m    878\u001b[0m             newline\u001b[38;5;241m=\u001b[39m\u001b[38;5;124m\"\u001b[39m\u001b[38;5;124m\"\u001b[39m,\n\u001b[1;32m    879\u001b[0m         )\n\u001b[1;32m    880\u001b[0m     \u001b[38;5;28;01melse\u001b[39;00m:\n\u001b[1;32m    881\u001b[0m         \u001b[38;5;66;03m# Binary mode\u001b[39;00m\n\u001b[1;32m    882\u001b[0m         handle \u001b[38;5;241m=\u001b[39m \u001b[38;5;28mopen\u001b[39m(handle, ioargs\u001b[38;5;241m.\u001b[39mmode)\n",
      "\u001b[0;31mFileNotFoundError\u001b[0m: [Errno 2] No such file or directory: 'valores_climatologicos_2022.csv'"
     ]
    }
   ],
   "source": [
    "valores_2022 = pd.read_csv(\"valores_climatologicos_2022.csv\")\n",
    "\n",
    "valores_2022"
   ]
  },
  {
   "cell_type": "code",
   "execution_count": null,
   "id": "e5a50020-5811-4acb-a978-91df6dbf6935",
   "metadata": {
    "tags": []
   },
   "outputs": [],
   "source": [
    "(valores_2022.isna().sum() / valores_2022.shape[0]) * 100"
   ]
  },
  {
   "cell_type": "code",
   "execution_count": null,
   "id": "bc9cd9ca-6773-46a3-bff8-fcadd95fd104",
   "metadata": {
    "tags": []
   },
   "outputs": [],
   "source": [
    "valores_2022 = valores_2022.drop([\"Unnamed: 0\",\"presMax\",\"horaPresMax\",\"presMin\",\"horaPresMin\",\"sol\"],axis=1)"
   ]
  },
  {
   "cell_type": "code",
   "execution_count": null,
   "id": "35f28bff-6d4b-4edf-aa32-76d4d4fd6297",
   "metadata": {
    "tags": []
   },
   "outputs": [],
   "source": [
    "valores_2022['provincia'] = valores_2022['provincia'].astype(str)\n",
    "valores_2022['nombre'] = valores_2022['nombre'].astype(str)\n",
    "valores_2022['indicativo'] = valores_2022['indicativo'].astype(str)\n",
    "\n",
    "valores_2022['fecha'] = pd.to_datetime(valores_2022['fecha'])\n",
    "\n",
    "def safe_to_datetime(column):\n",
    "    # Reemplaza valores no válidos con NaT\n",
    "    column = pd.to_datetime(column, format='%H:%M', errors='coerce')\n",
    "    return column\n",
    "\n",
    "# Convertir 'horatmin' y otras columnas de hora a formato datetime\n",
    "valores_2022['horatmin'] = safe_to_datetime(valores_2022['horatmin'])\n",
    "valores_2022['horatmax'] = safe_to_datetime(valores_2022['horatmax'])\n",
    "valores_2022['horaHrMin'] = safe_to_datetime(valores_2022['horaHrMin'])\n",
    "valores_2022['horaracha'] = safe_to_datetime(valores_2022['horaracha'])\n",
    "valores_2022['horaHrMax'] = safe_to_datetime(valores_2022['horaHrMax'])\n",
    "valores_2022['velmedia'] = valores_2022['velmedia'].str.replace(',', '.').astype(float)\n",
    "valores_2022['racha'] = valores_2022['racha'].str.replace(',', '.').astype(float)\n",
    "valores_2022['tmed'] = valores_2022['tmed'].str.replace(',', '.').astype(float)\n",
    "\n",
    "valores_2022['tmin'] = valores_2022['tmin'].str.replace(',', '.').astype(float)\n",
    "valores_2022['tmax'] = valores_2022['tmax'].str.replace(',', '.').astype(float)\n",
    "valores_2022['hrMax'] = valores_2022['hrMax'].astype(float)\n",
    "valores_2022['hrMedia'] = valores_2022['hrMedia'].astype(float)\n",
    "valores_2022['hrMin'] = valores_2022['hrMin'].astype(float)\n",
    "valores_2022['prec'] = valores_2022['prec'].str.replace(',', '.').replace(\"Ip\",np.nan).replace(\"Acum\",np.nan).astype(float)\n"
   ]
  },
  {
   "cell_type": "code",
   "execution_count": null,
   "id": "9f0d3292-bcc9-4bb9-9fb0-e32fcf638740",
   "metadata": {
    "tags": []
   },
   "outputs": [],
   "source": [
    "valores_2022.to_csv(\"valores_climatologicos_limpio_2022.csv\")"
   ]
  },
  {
   "cell_type": "code",
   "execution_count": null,
   "id": "f76a4f15-55b5-4e84-8dc9-341d4a4f8154",
   "metadata": {
    "tags": []
   },
   "outputs": [],
   "source": [
    "\n"
   ]
  },
  {
   "cell_type": "code",
   "execution_count": null,
   "id": "0044e588-fb69-4a0d-a749-1882be2d5774",
   "metadata": {
    "tags": []
   },
   "outputs": [],
   "source": [
    "pd.set_option('display.max_rows', None)  # None permite mostrar todas las filas\n",
    "\n",
    "# Ver todos los conteos de valores\n",
    "print(valores_2022['prec'].value_counts())\n",
    "\n",
    "# Restablecer la opción después de visualizar\n",
    "pd.reset_option('display.max_rows')"
   ]
  },
  {
   "cell_type": "code",
   "execution_count": null,
   "id": "46bf3b68-3073-4a7e-adee-e191665d13e5",
   "metadata": {
    "tags": []
   },
   "outputs": [],
   "source": [
    "valores_2022\n"
   ]
  },
  {
   "cell_type": "markdown",
   "id": "a6a3dfe2-b685-411a-ad7f-f97e9890a359",
   "metadata": {},
   "source": [
    "## 2023"
   ]
  },
  {
   "cell_type": "code",
   "execution_count": null,
   "id": "a5ed994c-d02f-40dc-b455-6bb566c3e022",
   "metadata": {
    "tags": []
   },
   "outputs": [],
   "source": [
    "valores_2023 = pd.read_csv(\"valores_climatologicos_2023.csv\")\n",
    "\n",
    "valores_2023"
   ]
  },
  {
   "cell_type": "code",
   "execution_count": null,
   "id": "233be863-6a4d-44bf-acf5-c14fa140043d",
   "metadata": {
    "tags": []
   },
   "outputs": [],
   "source": [
    "valores_2023.info()"
   ]
  },
  {
   "cell_type": "code",
   "execution_count": null,
   "id": "c41d47ad-6864-4e60-ba62-059c3d58ceb4",
   "metadata": {
    "tags": []
   },
   "outputs": [],
   "source": [
    "valores_2023 = valores_2023.drop([\"presMax\",\"horaPresMax\",\"presMin\",\"horaPresMin\",\"sol\"],axis=1)"
   ]
  },
  {
   "cell_type": "code",
   "execution_count": null,
   "id": "6e3e5458-3629-46c9-bacc-1c8f8ce0a580",
   "metadata": {
    "tags": []
   },
   "outputs": [],
   "source": [
    "# Para valores_2023\n",
    "valores_2023['provincia'] = valores_2023['provincia'].astype(str)\n",
    "valores_2023['nombre'] = valores_2023['nombre'].astype(str)\n",
    "valores_2023['indicativo'] = valores_2023['indicativo'].astype(str)\n",
    "\n",
    "valores_2023['fecha'] = pd.to_datetime(valores_2023['fecha'])\n",
    "\n",
    "# Convertir columnas de hora a timedelta\n",
    "valores_2023['horatmin'] = safe_to_datetime(valores_2023['horatmin'])\n",
    "valores_2023['horatmax'] = safe_to_datetime(valores_2023['horatmax'])\n",
    "valores_2023['horaHrMin'] = safe_to_datetime(valores_2023['horaHrMin'])\n",
    "valores_2023['horaracha'] = safe_to_datetime(valores_2023['horaracha'])\n",
    "valores_2023['horaHrMax'] = safe_to_datetime(valores_2023['horaHrMax'])\n",
    "\n",
    "# Reemplazar comas y convertir a float\n",
    "valores_2023['velmedia'] = valores_2023['velmedia'].str.replace(',', '.').astype(float)\n",
    "valores_2023['racha'] = valores_2023['racha'].str.replace(',', '.').astype(float)\n",
    "valores_2023['tmed'] = valores_2023['tmed'].str.replace(',', '.').astype(float)\n",
    "valores_2023['tmin'] = valores_2023['tmin'].str.replace(',', '.').astype(float)\n",
    "valores_2023['tmax'] = valores_2023['tmax'].str.replace(',', '.').astype(float)\n",
    "valores_2023['hrMax'] = valores_2023['hrMax'].astype(float)\n",
    "valores_2023['hrMedia'] = valores_2023['hrMedia'].astype(float)\n",
    "valores_2023['hrMin'] = valores_2023['hrMin'].astype(float)\n",
    "valores_2023['prec'] = valores_2023['prec'].str.replace(',', '.').replace(\"Ip\",np.nan).replace(\"Acum\",np.nan).astype(float)\n"
   ]
  },
  {
   "cell_type": "code",
   "execution_count": null,
   "id": "014e584c-7146-4964-a3ee-ddd4d97ff216",
   "metadata": {
    "tags": []
   },
   "outputs": [],
   "source": [
    "valores_2023.to_csv(\"valores_climatologicos_limpio_2023.csv\")"
   ]
  },
  {
   "cell_type": "markdown",
   "id": "f900d2dd-b75b-452c-a2ba-9ea62066e2aa",
   "metadata": {},
   "source": [
    "## 2024"
   ]
  },
  {
   "cell_type": "code",
   "execution_count": null,
   "id": "c50b3298-527f-48b3-81f7-a9750dbc10d5",
   "metadata": {
    "tags": []
   },
   "outputs": [],
   "source": [
    "valores_2024 = pd.read_csv(\"valores_climatologicos_2024.csv\")\n",
    "\n",
    "valores_2024"
   ]
  },
  {
   "cell_type": "code",
   "execution_count": null,
   "id": "3f638294-0fee-4341-a22f-b1361009c914",
   "metadata": {
    "tags": []
   },
   "outputs": [],
   "source": [
    "(valores_2024.isna().sum() / valores_2024.shape[0]) * 100"
   ]
  },
  {
   "cell_type": "code",
   "execution_count": null,
   "id": "c4f3ef4a-02c4-4b0f-afbd-6dec5e50771f",
   "metadata": {
    "tags": []
   },
   "outputs": [],
   "source": [
    "valores_2024 = valores_2024.drop([\"presMax\",\"horaPresMax\",\"presMin\",\"horaPresMin\",\"sol\"],axis=1)"
   ]
  },
  {
   "cell_type": "code",
   "execution_count": null,
   "id": "324a3fd1-ee93-42e8-accd-892ab0a57424",
   "metadata": {
    "tags": []
   },
   "outputs": [],
   "source": [
    "valores_2024"
   ]
  },
  {
   "cell_type": "code",
   "execution_count": null,
   "id": "7d464637-22ac-4472-8c30-4ecbe9c5f896",
   "metadata": {
    "tags": []
   },
   "outputs": [],
   "source": [
    "valores_2024.info()"
   ]
  },
  {
   "cell_type": "code",
   "execution_count": null,
   "id": "d88eb1ce-4f18-4c3b-a7b5-85983a394403",
   "metadata": {
    "tags": []
   },
   "outputs": [],
   "source": [
    "valores_2024['provincia'] = valores_2024['provincia'].astype(str)\n",
    "valores_2024['nombre'] = valores_2024['nombre'].astype(str)\n",
    "valores_2024['indicativo'] = valores_2024['indicativo'].astype(str)\n",
    "valores_2024['fecha'] = pd.to_datetime(valores_2024['fecha'])\n",
    "\n",
    "# Convertir columnas de hora a timedelta\n",
    "valores_2024['horatmin'] = safe_to_datetime(valores_2024['horatmin'])\n",
    "valores_2024['horatmax'] = safe_to_datetime(valores_2024['horatmax'])\n",
    "valores_2024['horaHrMin'] = safe_to_datetime(valores_2024['horaHrMin'])\n",
    "valores_2024['horaracha'] = safe_to_datetime(valores_2024['horaracha'])\n",
    "valores_2024['horaHrMax'] = safe_to_datetime(valores_2024['horaHrMax'])\n",
    "\n",
    "# Reemplazar comas y convertir a float\n",
    "valores_2024['velmedia'] = valores_2024['velmedia'].str.replace(',', '.').astype(float)\n",
    "valores_2024['racha'] = valores_2024['racha'].str.replace(',', '.').astype(float)\n",
    "valores_2024['tmed'] = valores_2024['tmed'].str.replace(',', '.').astype(float)\n",
    "valores_2024['tmin'] = valores_2024['tmin'].str.replace(',', '.').astype(float)\n",
    "valores_2024['tmax'] = valores_2024['tmax'].str.replace(',', '.').astype(float)\n",
    "valores_2024['hrMax'] = valores_2024['hrMax'].astype(float)\n",
    "valores_2024['hrMedia'] = valores_2024['hrMedia'].astype(float)\n",
    "valores_2024['hrMin'] = valores_2024['hrMin'].astype(float)\n",
    "valores_2024['prec'] = valores_2024['prec'].str.replace(',', '.').replace(\"Ip\",np.nan).replace(\"Acum\",np.nan).astype(float)\n"
   ]
  },
  {
   "cell_type": "code",
   "execution_count": null,
   "id": "67791896-ea14-4c2f-bbdb-810da21a8ffc",
   "metadata": {
    "tags": []
   },
   "outputs": [],
   "source": [
    "valores_2024.to_csv(\"valores_climatologicos_limpio_2024.csv\")"
   ]
  },
  {
   "cell_type": "code",
   "execution_count": null,
   "id": "4c75c103-81ad-4d44-9503-6dd05bfffa8c",
   "metadata": {
    "tags": []
   },
   "outputs": [],
   "source": [
    "plt.figure(figsize=(10, 6))  # Tamaño de la figura\n",
    "plt.boxplot(x, vert=False)  # Boxplot horizontal\n",
    "plt.title(\"Boxplot de Altitud\")\n",
    "plt.xlabel(\"Altitud\")\n",
    "plt.grid(True)\n",
    "plt.show()"
   ]
  },
  {
   "cell_type": "code",
   "execution_count": null,
   "id": "cad9ea78-1a29-42bf-a888-4a2ed245ed90",
   "metadata": {},
   "outputs": [],
   "source": []
  }
 ],
 "metadata": {
  "kernelspec": {
   "display_name": "Python 3 (ipykernel)",
   "language": "python",
   "name": "python3"
  },
  "language_info": {
   "codemirror_mode": {
    "name": "ipython",
    "version": 3
   },
   "file_extension": ".py",
   "mimetype": "text/x-python",
   "name": "python",
   "nbconvert_exporter": "python",
   "pygments_lexer": "ipython3",
   "version": "3.12.4"
  }
 },
 "nbformat": 4,
 "nbformat_minor": 5
}
