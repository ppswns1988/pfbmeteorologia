{
 "cells": [
  {
   "cell_type": "code",
   "execution_count": 2,
   "id": "97665b2a-be6b-4a3d-9174-85d5fd84e72c",
   "metadata": {},
   "outputs": [],
   "source": [
    "import pandas as pd\n",
    "\n",
    "import mysql # Para ver la versión\n",
    "import mysql.connector\n",
    "import pymysql"
   ]
  },
  {
   "cell_type": "markdown",
   "id": "f1e7fd92-c1ac-4155-b38b-1f54d429cf61",
   "metadata": {},
   "source": [
    "**CREAR BASE DE DATOS**"
   ]
  },
  {
   "cell_type": "code",
   "execution_count": 5,
   "id": "ba41a9ae-9517-4af3-87d1-7f4572d0bc3e",
   "metadata": {},
   "outputs": [],
   "source": [
    "\n",
    "database = \"AEMET\"\n",
    "\n",
    "def crear_database(database, host = \"localhost\", user = \"root\", password = \"password\"):\n",
    "\n",
    "    # Inicializar Connector\n",
    "    db = mysql.connector.connect(host     = \"localhost\",\n",
    "                                 user     = \"root\",\n",
    "                                 password = \"nueva_contraseña\",\n",
    "                                 database = None)\n",
    "    \n",
    "    # Iniciar Cursor\n",
    "    cursor = db.cursor()\n",
    "    \n",
    "    # Creamos la BBDD con la setencia de SQL y usando la variable cursor\n",
    "    cursor.execute(f\"CREATE DATABASE IF NOT EXISTS {database};\")\n",
    "    \n",
    "    # Finalizar Cursor - Cierra el cursor\n",
    "    cursor.close()\n",
    "    \n",
    "    # Finalizar Connector\n",
    "    db.close()"
   ]
  },
  {
   "cell_type": "code",
   "execution_count": 7,
   "id": "4b97a11b-b047-4f96-a428-4fe48fc82629",
   "metadata": {},
   "outputs": [],
   "source": [
    "crear_database(database, host = \"localhost\", user = \"root\", password = \"password\")"
   ]
  },
  {
   "cell_type": "markdown",
   "id": "332bc0ca-cbe8-456c-8cd8-96487ad85b7e",
   "metadata": {},
   "source": [
    "**CREAR TABLAS DENTRO DE LA BASE DE DATOS**"
   ]
  },
  {
   "cell_type": "code",
   "execution_count": 18,
   "id": "d5165954-68eb-4cd8-b872-ae567bc78908",
   "metadata": {},
   "outputs": [],
   "source": [
    "with open(\"vc_22.txt\", \"r\") as file:\n",
    "    query = file.read()"
   ]
  },
  {
   "cell_type": "code",
   "execution_count": 20,
   "id": "1bc7fa29-5a4a-4aef-97ad-5cd893253059",
   "metadata": {},
   "outputs": [],
   "source": [
    "database = \"AEMET\"\n",
    "\n",
    "def execute_query(query, database, host = \"localhost\", user = \"root\", password = \"password\"):\n",
    "    \n",
    "    db = mysql.connector.connect(host     = \"localhost\",\n",
    "                                 user     = \"root\",\n",
    "                                 password = \"nueva_contraseña\",\n",
    "                                 database = database)\n",
    "    \n",
    "    cursor = db.cursor()\n",
    "    \n",
    "    cursor.execute(query)\n",
    "    \n",
    "    cursor.fetchall() # Vaciamos el cursor\n",
    "    cursor.close()\n",
    "    db.close()"
   ]
  },
  {
   "cell_type": "code",
   "execution_count": 22,
   "id": "f6fd1909-4c65-4333-8aa6-30b2d811eb10",
   "metadata": {},
   "outputs": [],
   "source": [
    "execute_query(query = query,database = database)"
   ]
  },
  {
   "cell_type": "code",
   "execution_count": 26,
   "id": "26aa1158-e59a-4164-885e-becf06179279",
   "metadata": {},
   "outputs": [],
   "source": [
    "with open(\"vc_23.txt\", \"r\") as file:\n",
    "    query = file.read()"
   ]
  },
  {
   "cell_type": "code",
   "execution_count": 28,
   "id": "d322a267-4327-4a9e-b63e-1f913857cca5",
   "metadata": {},
   "outputs": [],
   "source": [
    "execute_query(query = query,database = database)"
   ]
  },
  {
   "cell_type": "code",
   "execution_count": 30,
   "id": "077e8554-c382-43b9-a8a5-ae90cf41909c",
   "metadata": {},
   "outputs": [],
   "source": [
    "with open(\"vc_24.txt\", \"r\") as file:\n",
    "    query = file.read()"
   ]
  },
  {
   "cell_type": "code",
   "execution_count": 32,
   "id": "008bfa3a-0c42-4767-80d5-43e53f03044d",
   "metadata": {},
   "outputs": [],
   "source": [
    "execute_query(query = query,database = database)"
   ]
  },
  {
   "cell_type": "code",
   "execution_count": null,
   "id": "3d7f8e09-b53d-4363-9d63-1776d95b89b4",
   "metadata": {},
   "outputs": [],
   "source": [
    "with open(\"maestro.txt\", \"r\") as file:\n",
    "    query = file.read()"
   ]
  },
  {
   "cell_type": "code",
   "execution_count": null,
   "id": "37435022-43a7-463d-93d6-aec62bc4fcfd",
   "metadata": {},
   "outputs": [],
   "source": [
    "execute_query(query = query,database = database)"
   ]
  },
  {
   "cell_type": "code",
   "execution_count": null,
   "id": "7cf10ffd-82ff-4c66-8b8c-b092fd914e2d",
   "metadata": {},
   "outputs": [],
   "source": [
    "with open(\"contaminacion.txt\", \"r\") as file:\n",
    "    query = file.read()"
   ]
  },
  {
   "cell_type": "code",
   "execution_count": null,
   "id": "144b1ad8-63a0-4d1c-9983-ab5ae441904f",
   "metadata": {},
   "outputs": [],
   "source": [
    "execute_query(query = query,database = database)"
   ]
  },
  {
   "cell_type": "markdown",
   "id": "50fd7897-7f5b-4faf-8c65-e276db3ea384",
   "metadata": {},
   "source": [
    "**POPULAR TABLAS**"
   ]
  },
  {
   "cell_type": "code",
   "execution_count": null,
   "id": "10bfc1c9-7f4d-4c54-bd6a-278d71c319d0",
   "metadata": {},
   "outputs": [],
   "source": []
  },
  {
   "cell_type": "code",
   "execution_count": null,
   "id": "f80cd3d0-deb8-443e-b9af-72d5ddeb5d18",
   "metadata": {},
   "outputs": [],
   "source": [
    "database = \"AEMET\"\n",
    "\n",
    "def meter_csv(database, host=\"localhost\", user=\"root\",password=\"nueva_contraseña\",database=\"database\")\n",
    "\n",
    "    # Conectar a la base de datos\n",
    "    db = mysql.connector.connect(\n",
    "        host=\"localhost\",\n",
    "        user=\"root\",\n",
    "        password=\"nueva_contraseña\",\n",
    "        database=\"database\"  # Reemplaza con el nombre de tu base de datos\n",
    "    )\n",
    "    \n",
    "    cursor = db.cursor()\n",
    "    \n",
    "    # Ejemplo de instrucción SQL para insertar en la tabla\n",
    "    sql = f\"INSERT INTO {nombre_tabla} (nombre_columna) VALUES (%s)\"\n",
    "    val = (\"valor_para_insertar\",)  # Aquí se coloca el valor que quieres insertar\n",
    "    \n",
    "    # Ejecutar la consulta\n",
    "    cursor.execute(sql, val)\n",
    "    \n",
    "    # Guardar los cambios\n",
    "    db.commit()\n",
    "    \n",
    "    print(cursor.rowcount, \"registro insertado.\")\n",
    "    \n",
    "    # Cerrar el cursor y la conexión\n",
    "    cursor.close()\n",
    "    db.close()"
   ]
  },
  {
   "cell_type": "code",
   "execution_count": null,
   "id": "43bcfde5-61bf-4892-bdef-4349af0e045b",
   "metadata": {},
   "outputs": [],
   "source": []
  },
  {
   "cell_type": "code",
   "execution_count": null,
   "id": "5b25ae16-47cb-4147-ad5f-0f37ce1ffc21",
   "metadata": {},
   "outputs": [],
   "source": []
  },
  {
   "cell_type": "code",
   "execution_count": null,
   "id": "46b2d2a5-35ec-4652-97a9-f7a4ff8591a4",
   "metadata": {},
   "outputs": [],
   "source": []
  },
  {
   "cell_type": "code",
   "execution_count": null,
   "id": "d4df7a2b-31d2-4cbc-af66-82cb35c8c186",
   "metadata": {},
   "outputs": [],
   "source": [
    "def execute_query(query, database, host = \"localhost\", user = \"root\", password = \"password\"):\n",
    "    \n",
    "    db = mysql.connector.connect(host     = \"localhost\",\n",
    "                                 user     = \"root\",\n",
    "                                 password = \"nueva_contraseña\",\n",
    "                                 database = database)\n",
    "    \n",
    "    cursor = db.cursor()\n",
    "    \n",
    "    cursor.execute(query)\n",
    "    \n",
    "    cursor.fetchall() # Vaciamos el cursor\n",
    "    cursor.close()\n",
    "    db.close()"
   ]
  },
  {
   "cell_type": "code",
   "execution_count": null,
   "id": "6be09bc7-1e19-4521-9aaf-9837cee5a4ad",
   "metadata": {},
   "outputs": [],
   "source": [
    "database = \"AEMET\"\n",
    "\n",
    "\n",
    "execute_query(query = query, database = database)"
   ]
  },
  {
   "cell_type": "code",
   "execution_count": null,
   "id": "7c416117-c85a-4691-8d49-82ef794c10ac",
   "metadata": {},
   "outputs": [],
   "source": [
    "with open(\"valores_climatologicos_2023.csv\", \"r\") as file:\n",
    "    query = file.read()\n"
   ]
  },
  {
   "cell_type": "code",
   "execution_count": null,
   "id": "e15418ce-6941-4983-99da-21e5f5b58644",
   "metadata": {},
   "outputs": [],
   "source": [
    "database = \"AEMET\"\n",
    "\n",
    "execute_query(query = query, database = database)"
   ]
  },
  {
   "cell_type": "code",
   "execution_count": null,
   "id": "2e825bf8-71d3-4cce-a2e4-dd5d6fde0303",
   "metadata": {},
   "outputs": [],
   "source": []
  },
  {
   "cell_type": "code",
   "execution_count": null,
   "id": "555e4874-4bd0-43e0-8300-9a3be0499d43",
   "metadata": {},
   "outputs": [],
   "source": []
  },
  {
   "cell_type": "code",
   "execution_count": null,
   "id": "b2535156-40df-448b-bf19-b8942dc79f5f",
   "metadata": {},
   "outputs": [],
   "source": []
  },
  {
   "cell_type": "code",
   "execution_count": null,
   "id": "01562a27-522c-41e3-8dc9-af0ae767c6bd",
   "metadata": {},
   "outputs": [],
   "source": []
  },
  {
   "cell_type": "code",
   "execution_count": null,
   "id": "772d945c-3a7f-4b63-896c-dc90c0a671d2",
   "metadata": {},
   "outputs": [],
   "source": []
  },
  {
   "cell_type": "code",
   "execution_count": null,
   "id": "96bdaf93-e279-43b5-9759-88d999153175",
   "metadata": {},
   "outputs": [],
   "source": []
  }
 ],
 "metadata": {
  "kernelspec": {
   "display_name": "Python 3 (ipykernel)",
   "language": "python",
   "name": "python3"
  },
  "language_info": {
   "codemirror_mode": {
    "name": "ipython",
    "version": 3
   },
   "file_extension": ".py",
   "mimetype": "text/x-python",
   "name": "python",
   "nbconvert_exporter": "python",
   "pygments_lexer": "ipython3",
   "version": "3.12.4"
  }
 },
 "nbformat": 4,
 "nbformat_minor": 5
}
