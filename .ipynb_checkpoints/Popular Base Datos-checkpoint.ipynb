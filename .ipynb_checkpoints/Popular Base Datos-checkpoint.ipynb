{
 "cells": [
  {
   "cell_type": "code",
   "execution_count": 2,
   "id": "97665b2a-be6b-4a3d-9174-85d5fd84e72c",
   "metadata": {},
   "outputs": [],
   "source": [
    "import pandas as pd\n",
    "\n",
    "import mysql # Para ver la versión\n",
    "import mysql.connector\n",
    "import pymysql"
   ]
  },
  {
   "cell_type": "markdown",
   "id": "f1e7fd92-c1ac-4155-b38b-1f54d429cf61",
   "metadata": {},
   "source": [
    "**CREAR BASE DE DATOS**"
   ]
  },
  {
   "cell_type": "code",
   "execution_count": 4,
   "id": "ba41a9ae-9517-4af3-87d1-7f4572d0bc3e",
   "metadata": {},
   "outputs": [],
   "source": [
    "\n",
    "database = \"AEMET\"\n",
    "\n",
    "def crear_database(database, host = \"localhost\", user = \"root\", password = \"password\"):\n",
    "\n",
    "    # Inicializar Connector\n",
    "    db = mysql.connector.connect(host     = \"localhost\",\n",
    "                                 user     = \"root\",\n",
    "                                 password = \"nueva_contraseña\",\n",
    "                                 database = None)\n",
    "    \n",
    "    # Iniciar Cursor\n",
    "    cursor = db.cursor()\n",
    "    \n",
    "    # Creamos la BBDD con la setencia de SQL y usando la variable cursor\n",
    "    cursor.execute(f\"CREATE DATABASE IF NOT EXISTS {database};\")\n",
    "    \n",
    "    # Finalizar Cursor - Cierra el cursor\n",
    "    cursor.close()\n",
    "    \n",
    "    # Finalizar Connector\n",
    "    db.close()"
   ]
  },
  {
   "cell_type": "code",
   "execution_count": 5,
   "id": "4b97a11b-b047-4f96-a428-4fe48fc82629",
   "metadata": {},
   "outputs": [],
   "source": [
    "crear_database(database, host = \"localhost\", user = \"root\", password = \"password\")"
   ]
  },
  {
   "cell_type": "markdown",
   "id": "332bc0ca-cbe8-456c-8cd8-96487ad85b7e",
   "metadata": {},
   "source": [
    "**CREAR TABLAS DENTRO DE LA BASE DE DATOS**"
   ]
  },
  {
   "cell_type": "code",
   "execution_count": 7,
   "id": "9d6c2b7d-e5a7-4fa6-be73-0dff588db551",
   "metadata": {},
   "outputs": [],
   "source": [
    "with open(\"vc_22.txt\", \"r\") as file:\n",
    "    query = file.read()"
   ]
  },
  {
   "cell_type": "code",
   "execution_count": 8,
   "id": "1bc7fa29-5a4a-4aef-97ad-5cd893253059",
   "metadata": {},
   "outputs": [],
   "source": [
    "database = \"AEMET\"\n",
    "\n",
    "def execute_query(query, database, host = \"localhost\", user = \"root\", password = \"password\"):\n",
    "    \n",
    "    db = mysql.connector.connect(host     = \"localhost\",\n",
    "                                 user     = \"root\",\n",
    "                                 password = \"nueva_contraseña\",\n",
    "                                 database = database)\n",
    "    \n",
    "    cursor = db.cursor()\n",
    "    \n",
    "    cursor.execute(query)\n",
    "    \n",
    "    cursor.fetchall() # Vaciamos el cursor\n",
    "    cursor.close()\n",
    "    db.close()"
   ]
  },
  {
   "cell_type": "code",
   "execution_count": 9,
   "id": "5eafc1e3-711e-4344-b707-32aa184d464e",
   "metadata": {},
   "outputs": [],
   "source": [
    "execute_query(query = query, database = database)"
   ]
  },
  {
   "cell_type": "code",
   "execution_count": 10,
   "id": "26aa1158-e59a-4164-885e-becf06179279",
   "metadata": {},
   "outputs": [],
   "source": [
    "with open(\"vc_23.txt\", \"r\") as file:\n",
    "    query = file.read()"
   ]
  },
  {
   "cell_type": "code",
   "execution_count": 11,
   "id": "c32be804-30b0-40ae-b1ad-25204c3590ac",
   "metadata": {},
   "outputs": [],
   "source": [
    "execute_query(query = query, database = database)"
   ]
  },
  {
   "cell_type": "code",
   "execution_count": 12,
   "id": "964a9b1f-1ea0-45c4-bcba-7b2ade37a560",
   "metadata": {},
   "outputs": [],
   "source": [
    "with open(\"vc_24.txt\", \"r\") as file:\n",
    "    query = file.read()"
   ]
  },
  {
   "cell_type": "code",
   "execution_count": 13,
   "id": "f80cd3d0-deb8-443e-b9af-72d5ddeb5d18",
   "metadata": {},
   "outputs": [],
   "source": [
    "execute_query(query = query, database = database)"
   ]
  },
  {
   "cell_type": "code",
   "execution_count": 14,
   "id": "2e825bf8-71d3-4cce-a2e4-dd5d6fde0303",
   "metadata": {},
   "outputs": [],
   "source": [
    "with open(\"contaminacion.txt\", \"r\") as file:\n",
    "    query = file.read()"
   ]
  },
  {
   "cell_type": "code",
   "execution_count": 15,
   "id": "555e4874-4bd0-43e0-8300-9a3be0499d43",
   "metadata": {},
   "outputs": [],
   "source": [
    "execute_query(query = query, database = database)"
   ]
  },
  {
   "cell_type": "code",
   "execution_count": 16,
   "id": "b2535156-40df-448b-bf19-b8942dc79f5f",
   "metadata": {},
   "outputs": [],
   "source": [
    "with open(\"maestro.txt\", \"r\") as file:\n",
    "    query = file.read()"
   ]
  },
  {
   "cell_type": "code",
   "execution_count": 17,
   "id": "01562a27-522c-41e3-8dc9-af0ae767c6bd",
   "metadata": {},
   "outputs": [],
   "source": [
    "execute_query(query = query, database = database)"
   ]
  },
  {
   "cell_type": "markdown",
   "id": "e0071602-3136-47ab-8538-21d8ab4474e5",
   "metadata": {},
   "source": [
    "**INSERTAR DATOS**"
   ]
  },
  {
   "cell_type": "code",
   "execution_count": null,
   "id": "f7267c45-dc61-4d13-ae08-6dbe86b2a128",
   "metadata": {},
   "outputs": [],
   "source": []
  },
  {
   "cell_type": "code",
   "execution_count": 19,
   "id": "96bdaf93-e279-43b5-9759-88d999153175",
   "metadata": {},
   "outputs": [],
   "source": [
    "def insert_to_table(data, table, database, host = \"localhost\", user = \"root\", password = \"nueva_contraseña\"):\n",
    "    \n",
    "    db = mysql.connector.connect(host     = host,\n",
    "                                 user     = user,\n",
    "                                 password = password,\n",
    "                                 database = database)\n",
    "    cursor = db.cursor()\n",
    "\n",
    "    # Seleccionamos las columnas de la tabla, omitiendo la Primary Key\n",
    "    cursor.execute(f\"SELECT * FROM {table} LIMIT 0;\")\n",
    "    column_names = cursor.column_names[1:]\n",
    "    cursor.fetchall()\n",
    "\n",
    "    insert_query = f\"INSERT INTO {table} ({', '.join(column_names)}) VALUES ({', '.join(['%s' for _ in column_names])})\".replace(\"'\", \"\")\n",
    "    values = [tuple(row) for row in data]\n",
    "\n",
    "    # .executemany ejecuta el query de INSERT INTO con cada uno de los elementos de \"values\"\n",
    "    cursor.executemany(insert_query, values)\n",
    "    \n",
    "    # Guarda los resultados\n",
    "    db.commit()\n",
    "\n",
    "    print(f\"Añadidas: {cursor.rowcount} filas\")\n",
    "\n",
    "    cursor.fetchall() # Vaciamos el cursor\n",
    "    cursor.close()\n",
    "    db.close()"
   ]
  },
  {
   "cell_type": "code",
   "execution_count": 20,
   "id": "0f11c13b-fa79-4b8d-b6d9-b6346ebb7652",
   "metadata": {},
   "outputs": [
    {
     "name": "stdout",
     "output_type": "stream",
     "text": [
      "Añadidas: 8122 filas\n"
     ]
    }
   ],
   "source": [
    "data = pd.read_csv(\"maestro_limpieza.csv\", index_col=0).values\n",
    "table = \"maestro\"\n",
    "database = \"AEMET\"\n",
    "\n",
    "insert_to_table(data = data, table = table, database = database)"
   ]
  },
  {
   "cell_type": "code",
   "execution_count": 21,
   "id": "08a792af-2203-4684-916a-49c8e8b14a78",
   "metadata": {},
   "outputs": [
    {
     "ename": "ProgrammingError",
     "evalue": "1054 (42S22): Unknown column 'nan' in 'field list'",
     "output_type": "error",
     "traceback": [
      "\u001b[0;31m---------------------------------------------------------------------------\u001b[0m",
      "\u001b[0;31mMySQLInterfaceError\u001b[0m                       Traceback (most recent call last)",
      "File \u001b[0;32m/opt/anaconda3/lib/python3.12/site-packages/mysql/connector/connection_cext.py:705\u001b[0m, in \u001b[0;36mCMySQLConnection.cmd_query\u001b[0;34m(self, query, raw, buffered, raw_as_string)\u001b[0m\n\u001b[1;32m    704\u001b[0m         query \u001b[38;5;241m=\u001b[39m query\u001b[38;5;241m.\u001b[39mencode(\u001b[38;5;124m\"\u001b[39m\u001b[38;5;124mutf-8\u001b[39m\u001b[38;5;124m\"\u001b[39m)\n\u001b[0;32m--> 705\u001b[0m     \u001b[38;5;28mself\u001b[39m\u001b[38;5;241m.\u001b[39m_cmysql\u001b[38;5;241m.\u001b[39mquery(\n\u001b[1;32m    706\u001b[0m         query,\n\u001b[1;32m    707\u001b[0m         raw\u001b[38;5;241m=\u001b[39mraw,\n\u001b[1;32m    708\u001b[0m         buffered\u001b[38;5;241m=\u001b[39mbuffered,\n\u001b[1;32m    709\u001b[0m         raw_as_string\u001b[38;5;241m=\u001b[39mraw_as_string,\n\u001b[1;32m    710\u001b[0m         query_attrs\u001b[38;5;241m=\u001b[39m\u001b[38;5;28mself\u001b[39m\u001b[38;5;241m.\u001b[39mquery_attrs,\n\u001b[1;32m    711\u001b[0m     )\n\u001b[1;32m    712\u001b[0m \u001b[38;5;28;01mexcept\u001b[39;00m MySQLInterfaceError \u001b[38;5;28;01mas\u001b[39;00m err:\n",
      "\u001b[0;31mMySQLInterfaceError\u001b[0m: Unknown column 'nan' in 'field list'",
      "\nThe above exception was the direct cause of the following exception:\n",
      "\u001b[0;31mProgrammingError\u001b[0m                          Traceback (most recent call last)",
      "Cell \u001b[0;32mIn[21], line 5\u001b[0m\n\u001b[1;32m      2\u001b[0m table \u001b[38;5;241m=\u001b[39m \u001b[38;5;124m\"\u001b[39m\u001b[38;5;124mcontaminacion\u001b[39m\u001b[38;5;124m\"\u001b[39m\n\u001b[1;32m      3\u001b[0m database \u001b[38;5;241m=\u001b[39m \u001b[38;5;124m\"\u001b[39m\u001b[38;5;124mAEMET\u001b[39m\u001b[38;5;124m\"\u001b[39m\n\u001b[0;32m----> 5\u001b[0m insert_to_table(data \u001b[38;5;241m=\u001b[39m data, table \u001b[38;5;241m=\u001b[39m table, database \u001b[38;5;241m=\u001b[39m database)\n",
      "Cell \u001b[0;32mIn[19], line 18\u001b[0m, in \u001b[0;36minsert_to_table\u001b[0;34m(data, table, database, host, user, password)\u001b[0m\n\u001b[1;32m     15\u001b[0m values \u001b[38;5;241m=\u001b[39m [\u001b[38;5;28mtuple\u001b[39m(row) \u001b[38;5;28;01mfor\u001b[39;00m row \u001b[38;5;129;01min\u001b[39;00m data]\n\u001b[1;32m     17\u001b[0m \u001b[38;5;66;03m# .executemany ejecuta el query de INSERT INTO con cada uno de los elementos de \"values\"\u001b[39;00m\n\u001b[0;32m---> 18\u001b[0m cursor\u001b[38;5;241m.\u001b[39mexecutemany(insert_query, values)\n\u001b[1;32m     20\u001b[0m \u001b[38;5;66;03m# Guarda los resultados\u001b[39;00m\n\u001b[1;32m     21\u001b[0m db\u001b[38;5;241m.\u001b[39mcommit()\n",
      "File \u001b[0;32m/opt/anaconda3/lib/python3.12/site-packages/mysql/connector/cursor_cext.py:484\u001b[0m, in \u001b[0;36mCMySQLCursor.executemany\u001b[0;34m(self, operation, seq_params)\u001b[0m\n\u001b[1;32m    482\u001b[0m     \u001b[38;5;28;01mif\u001b[39;00m stmt \u001b[38;5;129;01mis\u001b[39;00m \u001b[38;5;129;01mnot\u001b[39;00m \u001b[38;5;28;01mNone\u001b[39;00m:\n\u001b[1;32m    483\u001b[0m         \u001b[38;5;28mself\u001b[39m\u001b[38;5;241m.\u001b[39m_executed \u001b[38;5;241m=\u001b[39m stmt\n\u001b[0;32m--> 484\u001b[0m         \u001b[38;5;28;01mreturn\u001b[39;00m \u001b[38;5;28mself\u001b[39m\u001b[38;5;241m.\u001b[39mexecute(stmt)\n\u001b[1;32m    486\u001b[0m rowcnt \u001b[38;5;241m=\u001b[39m \u001b[38;5;241m0\u001b[39m\n\u001b[1;32m    487\u001b[0m \u001b[38;5;28;01mtry\u001b[39;00m:\n\u001b[1;32m    488\u001b[0m     \u001b[38;5;66;03m# When processing read ops (e.g., SELECT), rowcnt is updated\u001b[39;00m\n\u001b[1;32m    489\u001b[0m     \u001b[38;5;66;03m# based on self._rowcount. For write ops (e.g., INSERT) is\u001b[39;00m\n\u001b[1;32m    490\u001b[0m     \u001b[38;5;66;03m# updated based on self._affected_rows.\u001b[39;00m\n\u001b[1;32m    491\u001b[0m     \u001b[38;5;66;03m# The variable self._description is None for write ops, that's\u001b[39;00m\n\u001b[1;32m    492\u001b[0m     \u001b[38;5;66;03m# why we use it as indicator for updating rowcnt.\u001b[39;00m\n",
      "File \u001b[0;32m/opt/anaconda3/lib/python3.12/site-packages/mysql/connector/cursor_cext.py:357\u001b[0m, in \u001b[0;36mCMySQLCursor.execute\u001b[0;34m(self, operation, params, multi)\u001b[0m\n\u001b[1;32m    352\u001b[0m             \u001b[38;5;28;01mraise\u001b[39;00m ProgrammingError(\n\u001b[1;32m    353\u001b[0m                 \u001b[38;5;124m\"\u001b[39m\u001b[38;5;124mNot all parameters were used in the SQL statement\u001b[39m\u001b[38;5;124m\"\u001b[39m\n\u001b[1;32m    354\u001b[0m             )\n\u001b[1;32m    356\u001b[0m \u001b[38;5;28;01mtry\u001b[39;00m:\n\u001b[0;32m--> 357\u001b[0m     result \u001b[38;5;241m=\u001b[39m \u001b[38;5;28mself\u001b[39m\u001b[38;5;241m.\u001b[39m_connection\u001b[38;5;241m.\u001b[39mcmd_query(\n\u001b[1;32m    358\u001b[0m         stmt,\n\u001b[1;32m    359\u001b[0m         raw\u001b[38;5;241m=\u001b[39m\u001b[38;5;28mself\u001b[39m\u001b[38;5;241m.\u001b[39m_raw,\n\u001b[1;32m    360\u001b[0m         buffered\u001b[38;5;241m=\u001b[39m\u001b[38;5;28mself\u001b[39m\u001b[38;5;241m.\u001b[39m_buffered,\n\u001b[1;32m    361\u001b[0m         raw_as_string\u001b[38;5;241m=\u001b[39m\u001b[38;5;28mself\u001b[39m\u001b[38;5;241m.\u001b[39m_raw_as_string,\n\u001b[1;32m    362\u001b[0m     )\n\u001b[1;32m    363\u001b[0m \u001b[38;5;28;01mexcept\u001b[39;00m MySQLInterfaceError \u001b[38;5;28;01mas\u001b[39;00m err:\n\u001b[1;32m    364\u001b[0m     \u001b[38;5;28;01mraise\u001b[39;00m get_mysql_exception(\n\u001b[1;32m    365\u001b[0m         msg\u001b[38;5;241m=\u001b[39merr\u001b[38;5;241m.\u001b[39mmsg, errno\u001b[38;5;241m=\u001b[39merr\u001b[38;5;241m.\u001b[39merrno, sqlstate\u001b[38;5;241m=\u001b[39merr\u001b[38;5;241m.\u001b[39msqlstate\n\u001b[1;32m    366\u001b[0m     ) \u001b[38;5;28;01mfrom\u001b[39;00m \u001b[38;5;21;01merr\u001b[39;00m\n",
      "File \u001b[0;32m/opt/anaconda3/lib/python3.12/site-packages/mysql/connector/opentelemetry/context_propagation.py:97\u001b[0m, in \u001b[0;36mwith_context_propagation.<locals>.wrapper\u001b[0;34m(cnx, *args, **kwargs)\u001b[0m\n\u001b[1;32m     95\u001b[0m \u001b[38;5;66;03m# pylint: disable=possibly-used-before-assignment\u001b[39;00m\n\u001b[1;32m     96\u001b[0m \u001b[38;5;28;01mif\u001b[39;00m \u001b[38;5;129;01mnot\u001b[39;00m OTEL_ENABLED \u001b[38;5;129;01mor\u001b[39;00m \u001b[38;5;129;01mnot\u001b[39;00m cnx\u001b[38;5;241m.\u001b[39motel_context_propagation:\n\u001b[0;32m---> 97\u001b[0m     \u001b[38;5;28;01mreturn\u001b[39;00m method(cnx, \u001b[38;5;241m*\u001b[39margs, \u001b[38;5;241m*\u001b[39m\u001b[38;5;241m*\u001b[39mkwargs)\n\u001b[1;32m     99\u001b[0m current_span \u001b[38;5;241m=\u001b[39m trace\u001b[38;5;241m.\u001b[39mget_current_span()\n\u001b[1;32m    100\u001b[0m tp_header \u001b[38;5;241m=\u001b[39m \u001b[38;5;28;01mNone\u001b[39;00m\n",
      "File \u001b[0;32m/opt/anaconda3/lib/python3.12/site-packages/mysql/connector/connection_cext.py:713\u001b[0m, in \u001b[0;36mCMySQLConnection.cmd_query\u001b[0;34m(self, query, raw, buffered, raw_as_string)\u001b[0m\n\u001b[1;32m    705\u001b[0m     \u001b[38;5;28mself\u001b[39m\u001b[38;5;241m.\u001b[39m_cmysql\u001b[38;5;241m.\u001b[39mquery(\n\u001b[1;32m    706\u001b[0m         query,\n\u001b[1;32m    707\u001b[0m         raw\u001b[38;5;241m=\u001b[39mraw,\n\u001b[0;32m   (...)\u001b[0m\n\u001b[1;32m    710\u001b[0m         query_attrs\u001b[38;5;241m=\u001b[39m\u001b[38;5;28mself\u001b[39m\u001b[38;5;241m.\u001b[39mquery_attrs,\n\u001b[1;32m    711\u001b[0m     )\n\u001b[1;32m    712\u001b[0m \u001b[38;5;28;01mexcept\u001b[39;00m MySQLInterfaceError \u001b[38;5;28;01mas\u001b[39;00m err:\n\u001b[0;32m--> 713\u001b[0m     \u001b[38;5;28;01mraise\u001b[39;00m get_mysql_exception(\n\u001b[1;32m    714\u001b[0m         err\u001b[38;5;241m.\u001b[39merrno, msg\u001b[38;5;241m=\u001b[39merr\u001b[38;5;241m.\u001b[39mmsg, sqlstate\u001b[38;5;241m=\u001b[39merr\u001b[38;5;241m.\u001b[39msqlstate\n\u001b[1;32m    715\u001b[0m     ) \u001b[38;5;28;01mfrom\u001b[39;00m \u001b[38;5;21;01merr\u001b[39;00m\n\u001b[1;32m    716\u001b[0m \u001b[38;5;28;01mexcept\u001b[39;00m \u001b[38;5;167;01mAttributeError\u001b[39;00m \u001b[38;5;28;01mas\u001b[39;00m err:\n\u001b[1;32m    717\u001b[0m     addr \u001b[38;5;241m=\u001b[39m (\n\u001b[1;32m    718\u001b[0m         \u001b[38;5;28mself\u001b[39m\u001b[38;5;241m.\u001b[39m_unix_socket \u001b[38;5;28;01mif\u001b[39;00m \u001b[38;5;28mself\u001b[39m\u001b[38;5;241m.\u001b[39m_unix_socket \u001b[38;5;28;01melse\u001b[39;00m \u001b[38;5;124mf\u001b[39m\u001b[38;5;124m\"\u001b[39m\u001b[38;5;132;01m{\u001b[39;00m\u001b[38;5;28mself\u001b[39m\u001b[38;5;241m.\u001b[39m_host\u001b[38;5;132;01m}\u001b[39;00m\u001b[38;5;124m:\u001b[39m\u001b[38;5;132;01m{\u001b[39;00m\u001b[38;5;28mself\u001b[39m\u001b[38;5;241m.\u001b[39m_port\u001b[38;5;132;01m}\u001b[39;00m\u001b[38;5;124m\"\u001b[39m\n\u001b[1;32m    719\u001b[0m     )\n",
      "\u001b[0;31mProgrammingError\u001b[0m: 1054 (42S22): Unknown column 'nan' in 'field list'"
     ]
    }
   ],
   "source": [
    "data = pd.read_csv(\"contaminacion.csv\", index_col=0).values\n",
    "table = \"contaminacion\"\n",
    "database = \"AEMET\"\n",
    "\n",
    "insert_to_table(data = data, table = table, database = database)"
   ]
  },
  {
   "cell_type": "code",
   "execution_count": null,
   "id": "9797201c-09ef-4e3f-bd07-de99d222dee6",
   "metadata": {},
   "outputs": [],
   "source": []
  },
  {
   "cell_type": "code",
   "execution_count": null,
   "id": "79467612-cbca-4289-9a69-461453bcf37e",
   "metadata": {},
   "outputs": [],
   "source": []
  },
  {
   "cell_type": "code",
   "execution_count": null,
   "id": "ed4f62b7-842a-41ce-8c79-9e93d93a4265",
   "metadata": {},
   "outputs": [],
   "source": []
  },
  {
   "cell_type": "code",
   "execution_count": null,
   "id": "32d365a7-926d-4b61-96bb-c56d9b1ae3d1",
   "metadata": {},
   "outputs": [],
   "source": []
  },
  {
   "cell_type": "code",
   "execution_count": null,
   "id": "bb597e01-9ad9-4bec-bbf3-6225981f00b2",
   "metadata": {},
   "outputs": [],
   "source": []
  },
  {
   "cell_type": "code",
   "execution_count": null,
   "id": "9df54f9e-7e36-40be-a49c-3670185987b8",
   "metadata": {},
   "outputs": [],
   "source": []
  },
  {
   "cell_type": "code",
   "execution_count": null,
   "id": "3b72609c-db8a-4449-9b43-2cf929c596c0",
   "metadata": {},
   "outputs": [],
   "source": []
  },
  {
   "cell_type": "code",
   "execution_count": null,
   "id": "e0c035c9-de30-475b-aaec-f37ad9df75f2",
   "metadata": {},
   "outputs": [],
   "source": []
  },
  {
   "cell_type": "code",
   "execution_count": null,
   "id": "93e9075b-6db6-43b0-a6a0-b280cdb37161",
   "metadata": {},
   "outputs": [],
   "source": []
  }
 ],
 "metadata": {
  "kernelspec": {
   "display_name": "Python 3 (ipykernel)",
   "language": "python",
   "name": "python3"
  },
  "language_info": {
   "codemirror_mode": {
    "name": "ipython",
    "version": 3
   },
   "file_extension": ".py",
   "mimetype": "text/x-python",
   "name": "python",
   "nbconvert_exporter": "python",
   "pygments_lexer": "ipython3",
   "version": "3.12.4"
  }
 },
 "nbformat": 4,
 "nbformat_minor": 5
}
