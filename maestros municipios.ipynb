{
 "cells": [
  {
   "cell_type": "code",
   "execution_count": 73,
   "id": "e36a5999-e470-4695-9912-a64622751e98",
   "metadata": {
    "tags": []
   },
   "outputs": [],
   "source": [
    "import pandas as pd\n",
    "\n"
   ]
  },
  {
   "cell_type": "code",
   "execution_count": null,
   "id": "47ced50e-9178-4529-962f-f6970e9ce253",
   "metadata": {
    "tags": []
   },
   "outputs": [],
   "source": [
    "maestro = pd.read_csv(\"maestro municipios.csv\")\n",
    "\n",
    "maestro"
   ]
  },
  {
   "cell_type": "code",
   "execution_count": 76,
   "id": "8fd0f02b-e13c-456b-8b87-59f33fe654e8",
   "metadata": {},
   "outputs": [],
   "source": [
    "maestro = maestro.drop([\"id_old\",\"url\",\"destacada\",\"Unnamed: 0\",\"nombre\", \"latitud\",\"longitud\",\"id\"], axis=1)"
   ]
  },
  {
   "cell_type": "code",
   "execution_count": 79,
   "id": "762bc76f-09a0-42ec-bbd6-1d68aa302c79",
   "metadata": {},
   "outputs": [
    {
     "data": {
      "text/plain": [
       "latitud_dec      8122\n",
       "altitud          8122\n",
       "capital          8122\n",
       "num_hab          8122\n",
       "zona_comarcal    8122\n",
       "longitud_dec     8122\n",
       "dtype: int64"
      ]
     },
     "execution_count": 79,
     "metadata": {},
     "output_type": "execute_result"
    }
   ],
   "source": [
    "maestro.count()"
   ]
  },
  {
   "cell_type": "code",
   "execution_count": 15,
   "id": "2d9a0e64-4abb-49d1-b0dd-b24450d30120",
   "metadata": {
    "tags": []
   },
   "outputs": [
    {
     "name": "stdout",
     "output_type": "stream",
     "text": [
      "<class 'pandas.core.frame.DataFrame'>\n",
      "RangeIndex: 8122 entries, 0 to 8121\n",
      "Data columns (total 9 columns):\n",
      " #   Column         Non-Null Count  Dtype  \n",
      "---  ------         --------------  -----  \n",
      " 0   latitud        8122 non-null   object \n",
      " 1   latitud_dec    8122 non-null   float64\n",
      " 2   altitud        8122 non-null   int64  \n",
      " 3   capital        8122 non-null   object \n",
      " 4   num_hab        8122 non-null   int64  \n",
      " 5   zona_comarcal  8122 non-null   int64  \n",
      " 6   longitud_dec   8122 non-null   float64\n",
      " 7   id             8122 non-null   object \n",
      " 8   longitud       8122 non-null   object \n",
      "dtypes: float64(2), int64(3), object(4)\n",
      "memory usage: 571.2+ KB\n"
     ]
    }
   ],
   "source": [
    "maestro.info()"
   ]
  },
  {
   "cell_type": "code",
   "execution_count": null,
   "id": "cbc13723-1560-46b7-b09f-c7138cbe6e94",
   "metadata": {},
   "outputs": [],
   "source": [
    "maestro"
   ]
  },
  {
   "cell_type": "code",
   "execution_count": null,
   "id": "0e5da186-a895-4127-bbb8-d99cd0dd650d",
   "metadata": {},
   "outputs": [],
   "source": []
  },
  {
   "cell_type": "code",
   "execution_count": 83,
   "id": "10cf7d83-53bb-49d9-83b7-d8b724b458ed",
   "metadata": {},
   "outputs": [],
   "source": [
    "x = maestro.pop(\"capital\")\n",
    "\n",
    "maestro.insert(0, \"capital\", x)\n"
   ]
  },
  {
   "cell_type": "code",
   "execution_count": 89,
   "id": "dc7ecd32-df53-437c-87b1-a6919bf8bfd1",
   "metadata": {},
   "outputs": [
    {
     "name": "stdout",
     "output_type": "stream",
     "text": [
      "<class 'pandas.core.frame.DataFrame'>\n",
      "RangeIndex: 8122 entries, 0 to 8121\n",
      "Data columns (total 6 columns):\n",
      " #   Column         Non-Null Count  Dtype  \n",
      "---  ------         --------------  -----  \n",
      " 0   capital        8122 non-null   object \n",
      " 1   latitud_dec    8122 non-null   float64\n",
      " 2   altitud        8122 non-null   int64  \n",
      " 3   num_hab        8122 non-null   int64  \n",
      " 4   zona_comarcal  8122 non-null   int64  \n",
      " 5   longitud_dec   8122 non-null   float64\n",
      "dtypes: float64(2), int64(3), object(1)\n",
      "memory usage: 380.8+ KB\n"
     ]
    }
   ],
   "source": [
    "maestro.info()"
   ]
  },
  {
   "cell_type": "code",
   "execution_count": 99,
   "id": "e4618700-7ee7-48ea-8b7c-1210ff2bbc19",
   "metadata": {},
   "outputs": [],
   "source": [
    "maestro[\"altitud\"] = maestro[\"altitud\"].astype(float)"
   ]
  },
  {
   "cell_type": "code",
   "execution_count": 110,
   "id": "295b2841-f2d9-45a5-896b-c743d1989ef7",
   "metadata": {},
   "outputs": [
    {
     "data": {
      "text/plain": [
       "capital          0.0\n",
       "latitud_dec      0.0\n",
       "altitud          0.0\n",
       "num_hab          0.0\n",
       "zona_comarcal    0.0\n",
       "longitud_dec     0.0\n",
       "dtype: float64"
      ]
     },
     "execution_count": 110,
     "metadata": {},
     "output_type": "execute_result"
    }
   ],
   "source": [
    "(maestro.isna().sum() / maestro.shape[0]) * 100"
   ]
  },
  {
   "cell_type": "code",
   "execution_count": null,
   "id": "4965e7e2-3d78-4d3c-a4e4-4ca6d205617a",
   "metadata": {},
   "outputs": [],
   "source": []
  },
  {
   "cell_type": "code",
   "execution_count": null,
   "id": "e32749c2-320f-4cfa-950d-4a1b181ad3e3",
   "metadata": {},
   "outputs": [],
   "source": []
  },
  {
   "cell_type": "code",
   "execution_count": null,
   "id": "85b87950-3743-4c34-bd24-d0606e9bbca4",
   "metadata": {},
   "outputs": [],
   "source": []
  },
  {
   "cell_type": "code",
   "execution_count": null,
   "id": "481f23e8-03cc-49d4-b252-634cd181f9e0",
   "metadata": {},
   "outputs": [],
   "source": []
  },
  {
   "cell_type": "code",
   "execution_count": null,
   "id": "20be9449-4327-4634-82cb-255b8f15043c",
   "metadata": {},
   "outputs": [],
   "source": []
  },
  {
   "cell_type": "code",
   "execution_count": null,
   "id": "66dc9695-d827-487e-b179-5be9c1abe904",
   "metadata": {},
   "outputs": [],
   "source": []
  },
  {
   "cell_type": "code",
   "execution_count": null,
   "id": "c0c74b6d-f9e3-49e1-a9d4-41136ab504b4",
   "metadata": {},
   "outputs": [],
   "source": []
  },
  {
   "cell_type": "code",
   "execution_count": null,
   "id": "de924779-84f0-423e-bf3c-0a14bc136336",
   "metadata": {},
   "outputs": [],
   "source": []
  },
  {
   "cell_type": "code",
   "execution_count": null,
   "id": "415a9ca2-8a83-40cb-9543-f023666fd04b",
   "metadata": {},
   "outputs": [],
   "source": []
  }
 ],
 "metadata": {
  "kernelspec": {
   "display_name": "Python 3 (ipykernel)",
   "language": "python",
   "name": "python3"
  },
  "language_info": {
   "codemirror_mode": {
    "name": "ipython",
    "version": 3
   },
   "file_extension": ".py",
   "mimetype": "text/x-python",
   "name": "python",
   "nbconvert_exporter": "python",
   "pygments_lexer": "ipython3",
   "version": "3.11.7"
  }
 },
 "nbformat": 4,
 "nbformat_minor": 5
}
