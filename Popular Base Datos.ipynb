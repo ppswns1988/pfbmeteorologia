{
 "cells": [
  {
   "cell_type": "code",
   "execution_count": 42,
   "id": "97665b2a-be6b-4a3d-9174-85d5fd84e72c",
   "metadata": {},
   "outputs": [],
   "source": [
    "import pandas as pd\n",
    "\n",
    "import mysql # Para ver la versión\n",
    "import mysql.connector\n",
    "import pymysql"
   ]
  },
  {
   "cell_type": "markdown",
   "id": "f1e7fd92-c1ac-4155-b38b-1f54d429cf61",
   "metadata": {},
   "source": [
    "**CREAR BASE DE DATOS**"
   ]
  },
  {
   "cell_type": "code",
   "execution_count": 45,
   "id": "ba41a9ae-9517-4af3-87d1-7f4572d0bc3e",
   "metadata": {},
   "outputs": [],
   "source": [
    "\n",
    "database = \"AEMET\"\n",
    "\n",
    "def crear_database(database, host = \"localhost\", user = \"root\", password = \"password\"):\n",
    "\n",
    "    # Inicializar Connector\n",
    "    db = mysql.connector.connect(host     = \"localhost\",\n",
    "                                 user     = \"root\",\n",
    "                                 password = \"nueva_contraseña\",\n",
    "                                 database = None)\n",
    "    \n",
    "    # Iniciar Cursor\n",
    "    cursor = db.cursor()\n",
    "    \n",
    "    # Creamos la BBDD con la setencia de SQL y usando la variable cursor\n",
    "    cursor.execute(f\"CREATE DATABASE IF NOT EXISTS {database};\")\n",
    "    \n",
    "    # Finalizar Cursor - Cierra el cursor\n",
    "    cursor.close()\n",
    "    \n",
    "    # Finalizar Connector\n",
    "    db.close()"
   ]
  },
  {
   "cell_type": "code",
   "execution_count": 47,
   "id": "4b97a11b-b047-4f96-a428-4fe48fc82629",
   "metadata": {},
   "outputs": [],
   "source": [
    "crear_database(database, host = \"localhost\", user = \"root\", password = \"password\")"
   ]
  },
  {
   "cell_type": "markdown",
   "id": "332bc0ca-cbe8-456c-8cd8-96487ad85b7e",
   "metadata": {},
   "source": [
    "**CREAR TABLAS DENTRO DE LA BASE DE DATOS**"
   ]
  },
  {
   "cell_type": "code",
   "execution_count": 50,
   "id": "9d6c2b7d-e5a7-4fa6-be73-0dff588db551",
   "metadata": {},
   "outputs": [],
   "source": [
    "with open(\"vc_22.txt\", \"r\") as file:\n",
    "    query = file.read()"
   ]
  },
  {
   "cell_type": "code",
   "execution_count": 52,
   "id": "1bc7fa29-5a4a-4aef-97ad-5cd893253059",
   "metadata": {},
   "outputs": [],
   "source": [
    "database = \"AEMET\"\n",
    "\n",
    "def execute_query(query, database, host = \"localhost\", user = \"root\", password = \"password\"):\n",
    "    \n",
    "    db = mysql.connector.connect(host     = \"localhost\",\n",
    "                                 user     = \"root\",\n",
    "                                 password = \"nueva_contraseña\",\n",
    "                                 database = database)\n",
    "    \n",
    "    cursor = db.cursor()\n",
    "    \n",
    "    cursor.execute(query)\n",
    "    \n",
    "    cursor.fetchall() # Vaciamos el cursor\n",
    "    cursor.close()\n",
    "    db.close()"
   ]
  },
  {
   "cell_type": "code",
   "execution_count": 54,
   "id": "5eafc1e3-711e-4344-b707-32aa184d464e",
   "metadata": {},
   "outputs": [],
   "source": [
    "execute_query(query = query, database = database)"
   ]
  },
  {
   "cell_type": "code",
   "execution_count": 56,
   "id": "26aa1158-e59a-4164-885e-becf06179279",
   "metadata": {},
   "outputs": [],
   "source": [
    "with open(\"vc_23.txt\", \"r\") as file:\n",
    "    query = file.read()"
   ]
  },
  {
   "cell_type": "code",
   "execution_count": 58,
   "id": "c32be804-30b0-40ae-b1ad-25204c3590ac",
   "metadata": {},
   "outputs": [],
   "source": [
    "execute_query(query = query, database = database)"
   ]
  },
  {
   "cell_type": "code",
   "execution_count": 60,
   "id": "964a9b1f-1ea0-45c4-bcba-7b2ade37a560",
   "metadata": {},
   "outputs": [],
   "source": [
    "with open(\"vc_24.txt\", \"r\") as file:\n",
    "    query = file.read()"
   ]
  },
  {
   "cell_type": "code",
   "execution_count": 62,
   "id": "f80cd3d0-deb8-443e-b9af-72d5ddeb5d18",
   "metadata": {},
   "outputs": [],
   "source": [
    "execute_query(query = query, database = database)"
   ]
  },
  {
   "cell_type": "code",
   "execution_count": null,
   "id": "2e825bf8-71d3-4cce-a2e4-dd5d6fde0303",
   "metadata": {},
   "outputs": [],
   "source": []
  },
  {
   "cell_type": "code",
   "execution_count": null,
   "id": "555e4874-4bd0-43e0-8300-9a3be0499d43",
   "metadata": {},
   "outputs": [],
   "source": []
  },
  {
   "cell_type": "code",
   "execution_count": null,
   "id": "b2535156-40df-448b-bf19-b8942dc79f5f",
   "metadata": {},
   "outputs": [],
   "source": []
  },
  {
   "cell_type": "code",
   "execution_count": null,
   "id": "01562a27-522c-41e3-8dc9-af0ae767c6bd",
   "metadata": {},
   "outputs": [],
   "source": []
  },
  {
   "cell_type": "code",
   "execution_count": null,
   "id": "772d945c-3a7f-4b63-896c-dc90c0a671d2",
   "metadata": {},
   "outputs": [],
   "source": []
  },
  {
   "cell_type": "code",
   "execution_count": null,
   "id": "96bdaf93-e279-43b5-9759-88d999153175",
   "metadata": {},
   "outputs": [],
   "source": []
  }
 ],
 "metadata": {
  "kernelspec": {
   "display_name": "Python 3 (ipykernel)",
   "language": "python",
   "name": "python3"
  },
  "language_info": {
   "codemirror_mode": {
    "name": "ipython",
    "version": 3
   },
   "file_extension": ".py",
   "mimetype": "text/x-python",
   "name": "python",
   "nbconvert_exporter": "python",
   "pygments_lexer": "ipython3",
   "version": "3.12.4"
  }
 },
 "nbformat": 4,
 "nbformat_minor": 5
}
