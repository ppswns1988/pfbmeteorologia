{
 "cells": [
  {
   "cell_type": "code",
   "execution_count": 3,
   "id": "e36a5999-e470-4695-9912-a64622751e98",
   "metadata": {
    "tags": []
   },
   "outputs": [],
   "source": [
    "import pandas as pd\n",
    "\n"
   ]
  },
  {
   "cell_type": "code",
   "execution_count": 4,
   "id": "47ced50e-9178-4529-962f-f6970e9ce253",
   "metadata": {
    "tags": []
   },
   "outputs": [
    {
     "data": {
      "text/html": [
       "<div>\n",
       "<style scoped>\n",
       "    .dataframe tbody tr th:only-of-type {\n",
       "        vertical-align: middle;\n",
       "    }\n",
       "\n",
       "    .dataframe tbody tr th {\n",
       "        vertical-align: top;\n",
       "    }\n",
       "\n",
       "    .dataframe thead th {\n",
       "        text-align: right;\n",
       "    }\n",
       "</style>\n",
       "<table border=\"1\" class=\"dataframe\">\n",
       "  <thead>\n",
       "    <tr style=\"text-align: right;\">\n",
       "      <th></th>\n",
       "      <th>Unnamed: 0</th>\n",
       "      <th>latitud</th>\n",
       "      <th>id_old</th>\n",
       "      <th>url</th>\n",
       "      <th>latitud_dec</th>\n",
       "      <th>altitud</th>\n",
       "      <th>capital</th>\n",
       "      <th>num_hab</th>\n",
       "      <th>zona_comarcal</th>\n",
       "      <th>destacada</th>\n",
       "      <th>nombre</th>\n",
       "      <th>longitud_dec</th>\n",
       "      <th>id</th>\n",
       "      <th>longitud</th>\n",
       "    </tr>\n",
       "  </thead>\n",
       "  <tbody>\n",
       "    <tr>\n",
       "      <th>0</th>\n",
       "      <td>0</td>\n",
       "      <td>40º32'54.450744\"</td>\n",
       "      <td>44004.0</td>\n",
       "      <td>ababuj-id44001</td>\n",
       "      <td>40.548459</td>\n",
       "      <td>1372</td>\n",
       "      <td>Ababuj</td>\n",
       "      <td>65</td>\n",
       "      <td>624401</td>\n",
       "      <td>0</td>\n",
       "      <td>Ababuj</td>\n",
       "      <td>-0.807801</td>\n",
       "      <td>id44001</td>\n",
       "      <td>-0º48'28.084212\"</td>\n",
       "    </tr>\n",
       "    <tr>\n",
       "      <th>1</th>\n",
       "      <td>1</td>\n",
       "      <td>40º54'58.824504\"</td>\n",
       "      <td>40004.0</td>\n",
       "      <td>abades-id40001</td>\n",
       "      <td>40.916340</td>\n",
       "      <td>971</td>\n",
       "      <td>Abades</td>\n",
       "      <td>873</td>\n",
       "      <td>674001</td>\n",
       "      <td>0</td>\n",
       "      <td>Abades</td>\n",
       "      <td>-4.267874</td>\n",
       "      <td>id40001</td>\n",
       "      <td>-4º16'4.346004\"</td>\n",
       "    </tr>\n",
       "    <tr>\n",
       "      <th>2</th>\n",
       "      <td>2</td>\n",
       "      <td>43º8'51.525564\"</td>\n",
       "      <td>48010.0</td>\n",
       "      <td>abadino-abadino-zelaieta-id48001</td>\n",
       "      <td>43.147646</td>\n",
       "      <td>144</td>\n",
       "      <td>Abadiño-Zelaieta</td>\n",
       "      <td>7504</td>\n",
       "      <td>754802</td>\n",
       "      <td>0</td>\n",
       "      <td>Abadiño</td>\n",
       "      <td>-2.606873</td>\n",
       "      <td>id48001</td>\n",
       "      <td>-2º36'24.743484\"</td>\n",
       "    </tr>\n",
       "    <tr>\n",
       "      <th>3</th>\n",
       "      <td>3</td>\n",
       "      <td>40º15'34.315272\"</td>\n",
       "      <td>10004.0</td>\n",
       "      <td>abadia-id10001</td>\n",
       "      <td>40.259532</td>\n",
       "      <td>451</td>\n",
       "      <td>Abadía</td>\n",
       "      <td>324</td>\n",
       "      <td>701001</td>\n",
       "      <td>0</td>\n",
       "      <td>Abadía</td>\n",
       "      <td>-5.977858</td>\n",
       "      <td>id10001</td>\n",
       "      <td>-5º58'40.289016\"</td>\n",
       "    </tr>\n",
       "    <tr>\n",
       "      <th>4</th>\n",
       "      <td>4</td>\n",
       "      <td>43º21'46.874736\"</td>\n",
       "      <td>27010.0</td>\n",
       "      <td>abadin-abadin-o-provecende-id27001</td>\n",
       "      <td>43.363021</td>\n",
       "      <td>515</td>\n",
       "      <td>Abadín o Provecende</td>\n",
       "      <td>2646</td>\n",
       "      <td>712702</td>\n",
       "      <td>0</td>\n",
       "      <td>Abadín</td>\n",
       "      <td>-7.472145</td>\n",
       "      <td>id27001</td>\n",
       "      <td>-7º28'19.72182\"</td>\n",
       "    </tr>\n",
       "    <tr>\n",
       "      <th>...</th>\n",
       "      <td>...</td>\n",
       "      <td>...</td>\n",
       "      <td>...</td>\n",
       "      <td>...</td>\n",
       "      <td>...</td>\n",
       "      <td>...</td>\n",
       "      <td>...</td>\n",
       "      <td>...</td>\n",
       "      <td>...</td>\n",
       "      <td>...</td>\n",
       "      <td>...</td>\n",
       "      <td>...</td>\n",
       "      <td>...</td>\n",
       "      <td>...</td>\n",
       "    </tr>\n",
       "    <tr>\n",
       "      <th>8117</th>\n",
       "      <td>8117</td>\n",
       "      <td>41º33'18.670032\"</td>\n",
       "      <td>8456.0</td>\n",
       "      <td>orrius-id08153</td>\n",
       "      <td>41.555186</td>\n",
       "      <td>255</td>\n",
       "      <td>Òrrius</td>\n",
       "      <td>690</td>\n",
       "      <td>690804</td>\n",
       "      <td>0</td>\n",
       "      <td>Òrrius</td>\n",
       "      <td>2.354940</td>\n",
       "      <td>id08153</td>\n",
       "      <td>2º21'17.785224\"</td>\n",
       "    </tr>\n",
       "    <tr>\n",
       "      <th>8118</th>\n",
       "      <td>8118</td>\n",
       "      <td>41º46'49.646784\"</td>\n",
       "      <td>42570.0</td>\n",
       "      <td>olvega-id42134</td>\n",
       "      <td>41.780457</td>\n",
       "      <td>1030</td>\n",
       "      <td>Ólvega</td>\n",
       "      <td>3814</td>\n",
       "      <td>674201</td>\n",
       "      <td>1</td>\n",
       "      <td>Ólvega</td>\n",
       "      <td>-1.982666</td>\n",
       "      <td>id42134</td>\n",
       "      <td>-1º58'57.597312\"</td>\n",
       "    </tr>\n",
       "    <tr>\n",
       "      <th>8119</th>\n",
       "      <td>8119</td>\n",
       "      <td>36º54'4.3173\"</td>\n",
       "      <td>18620.0</td>\n",
       "      <td>orgiva-id18147</td>\n",
       "      <td>36.901199</td>\n",
       "      <td>455</td>\n",
       "      <td>Órgiva</td>\n",
       "      <td>5393</td>\n",
       "      <td>611803</td>\n",
       "      <td>0</td>\n",
       "      <td>Órgiva</td>\n",
       "      <td>-3.423911</td>\n",
       "      <td>id18147</td>\n",
       "      <td>-3º25'26.079168\"</td>\n",
       "    </tr>\n",
       "    <tr>\n",
       "      <th>8120</th>\n",
       "      <td>8120</td>\n",
       "      <td>38º0'41.393628\"</td>\n",
       "      <td>23860.0</td>\n",
       "      <td>ubeda-id23092</td>\n",
       "      <td>38.011498</td>\n",
       "      <td>750</td>\n",
       "      <td>Úbeda</td>\n",
       "      <td>35177</td>\n",
       "      <td>612303</td>\n",
       "      <td>1</td>\n",
       "      <td>Úbeda</td>\n",
       "      <td>-3.371192</td>\n",
       "      <td>id23092</td>\n",
       "      <td>-3º22'16.28976\"</td>\n",
       "    </tr>\n",
       "    <tr>\n",
       "      <th>8121</th>\n",
       "      <td>8121</td>\n",
       "      <td>42º37'9.701292\"</td>\n",
       "      <td>9722.0</td>\n",
       "      <td>urbel-del-castillo-id09398</td>\n",
       "      <td>42.619361</td>\n",
       "      <td>943</td>\n",
       "      <td>Úrbel del Castillo</td>\n",
       "      <td>83</td>\n",
       "      <td>670901</td>\n",
       "      <td>0</td>\n",
       "      <td>Úrbel del Castillo</td>\n",
       "      <td>-3.844808</td>\n",
       "      <td>id09398</td>\n",
       "      <td>-3º50'41.307036\"</td>\n",
       "    </tr>\n",
       "  </tbody>\n",
       "</table>\n",
       "<p>8122 rows × 14 columns</p>\n",
       "</div>"
      ],
      "text/plain": [
       "      Unnamed: 0           latitud   id_old  \\\n",
       "0              0  40º32'54.450744\"  44004.0   \n",
       "1              1  40º54'58.824504\"  40004.0   \n",
       "2              2   43º8'51.525564\"  48010.0   \n",
       "3              3  40º15'34.315272\"  10004.0   \n",
       "4              4  43º21'46.874736\"  27010.0   \n",
       "...          ...               ...      ...   \n",
       "8117        8117  41º33'18.670032\"   8456.0   \n",
       "8118        8118  41º46'49.646784\"  42570.0   \n",
       "8119        8119     36º54'4.3173\"  18620.0   \n",
       "8120        8120   38º0'41.393628\"  23860.0   \n",
       "8121        8121   42º37'9.701292\"   9722.0   \n",
       "\n",
       "                                     url  latitud_dec  altitud  \\\n",
       "0                         ababuj-id44001    40.548459     1372   \n",
       "1                         abades-id40001    40.916340      971   \n",
       "2       abadino-abadino-zelaieta-id48001    43.147646      144   \n",
       "3                         abadia-id10001    40.259532      451   \n",
       "4     abadin-abadin-o-provecende-id27001    43.363021      515   \n",
       "...                                  ...          ...      ...   \n",
       "8117                      orrius-id08153    41.555186      255   \n",
       "8118                      olvega-id42134    41.780457     1030   \n",
       "8119                      orgiva-id18147    36.901199      455   \n",
       "8120                       ubeda-id23092    38.011498      750   \n",
       "8121          urbel-del-castillo-id09398    42.619361      943   \n",
       "\n",
       "                  capital  num_hab  zona_comarcal  destacada  \\\n",
       "0                  Ababuj       65         624401          0   \n",
       "1                  Abades      873         674001          0   \n",
       "2        Abadiño-Zelaieta     7504         754802          0   \n",
       "3                  Abadía      324         701001          0   \n",
       "4     Abadín o Provecende     2646         712702          0   \n",
       "...                   ...      ...            ...        ...   \n",
       "8117               Òrrius      690         690804          0   \n",
       "8118               Ólvega     3814         674201          1   \n",
       "8119               Órgiva     5393         611803          0   \n",
       "8120                Úbeda    35177         612303          1   \n",
       "8121   Úrbel del Castillo       83         670901          0   \n",
       "\n",
       "                  nombre  longitud_dec       id          longitud  \n",
       "0                 Ababuj     -0.807801  id44001  -0º48'28.084212\"  \n",
       "1                 Abades     -4.267874  id40001   -4º16'4.346004\"  \n",
       "2                Abadiño     -2.606873  id48001  -2º36'24.743484\"  \n",
       "3                 Abadía     -5.977858  id10001  -5º58'40.289016\"  \n",
       "4                 Abadín     -7.472145  id27001   -7º28'19.72182\"  \n",
       "...                  ...           ...      ...               ...  \n",
       "8117              Òrrius      2.354940  id08153   2º21'17.785224\"  \n",
       "8118              Ólvega     -1.982666  id42134  -1º58'57.597312\"  \n",
       "8119              Órgiva     -3.423911  id18147  -3º25'26.079168\"  \n",
       "8120               Úbeda     -3.371192  id23092   -3º22'16.28976\"  \n",
       "8121  Úrbel del Castillo     -3.844808  id09398  -3º50'41.307036\"  \n",
       "\n",
       "[8122 rows x 14 columns]"
      ]
     },
     "execution_count": 4,
     "metadata": {},
     "output_type": "execute_result"
    }
   ],
   "source": [
    "maestro = pd.read_csv(\"maestro municipios.csv\")\n",
    "\n",
    "maestro"
   ]
  },
  {
   "cell_type": "code",
   "execution_count": 5,
   "id": "8fd0f02b-e13c-456b-8b87-59f33fe654e8",
   "metadata": {},
   "outputs": [],
   "source": [
    "maestro = maestro.drop([\"id_old\",\"url\",\"destacada\",\"Unnamed: 0\",\"nombre\", \"latitud\",\"longitud\",\"id\"], axis=1)"
   ]
  },
  {
   "cell_type": "code",
   "execution_count": 6,
   "id": "762bc76f-09a0-42ec-bbd6-1d68aa302c79",
   "metadata": {},
   "outputs": [
    {
     "data": {
      "text/plain": [
       "latitud_dec      8122\n",
       "altitud          8122\n",
       "capital          8122\n",
       "num_hab          8122\n",
       "zona_comarcal    8122\n",
       "longitud_dec     8122\n",
       "dtype: int64"
      ]
     },
     "execution_count": 6,
     "metadata": {},
     "output_type": "execute_result"
    }
   ],
   "source": [
    "maestro.count()"
   ]
  },
  {
   "cell_type": "code",
   "execution_count": 7,
   "id": "2d9a0e64-4abb-49d1-b0dd-b24450d30120",
   "metadata": {
    "tags": []
   },
   "outputs": [
    {
     "name": "stdout",
     "output_type": "stream",
     "text": [
      "<class 'pandas.core.frame.DataFrame'>\n",
      "RangeIndex: 8122 entries, 0 to 8121\n",
      "Data columns (total 6 columns):\n",
      " #   Column         Non-Null Count  Dtype  \n",
      "---  ------         --------------  -----  \n",
      " 0   latitud_dec    8122 non-null   float64\n",
      " 1   altitud        8122 non-null   int64  \n",
      " 2   capital        8122 non-null   object \n",
      " 3   num_hab        8122 non-null   int64  \n",
      " 4   zona_comarcal  8122 non-null   int64  \n",
      " 5   longitud_dec   8122 non-null   float64\n",
      "dtypes: float64(2), int64(3), object(1)\n",
      "memory usage: 380.8+ KB\n"
     ]
    }
   ],
   "source": [
    "maestro.info()"
   ]
  },
  {
   "cell_type": "code",
   "execution_count": 8,
   "id": "10cf7d83-53bb-49d9-83b7-d8b724b458ed",
   "metadata": {},
   "outputs": [],
   "source": [
    "x = maestro.pop(\"capital\")\n",
    "\n",
    "maestro.insert(0, \"capital\", x)\n"
   ]
  },
  {
   "cell_type": "code",
   "execution_count": 9,
   "id": "dc7ecd32-df53-437c-87b1-a6919bf8bfd1",
   "metadata": {},
   "outputs": [
    {
     "name": "stdout",
     "output_type": "stream",
     "text": [
      "<class 'pandas.core.frame.DataFrame'>\n",
      "RangeIndex: 8122 entries, 0 to 8121\n",
      "Data columns (total 6 columns):\n",
      " #   Column         Non-Null Count  Dtype  \n",
      "---  ------         --------------  -----  \n",
      " 0   capital        8122 non-null   object \n",
      " 1   latitud_dec    8122 non-null   float64\n",
      " 2   altitud        8122 non-null   int64  \n",
      " 3   num_hab        8122 non-null   int64  \n",
      " 4   zona_comarcal  8122 non-null   int64  \n",
      " 5   longitud_dec   8122 non-null   float64\n",
      "dtypes: float64(2), int64(3), object(1)\n",
      "memory usage: 380.8+ KB\n"
     ]
    }
   ],
   "source": [
    "maestro.info()"
   ]
  },
  {
   "cell_type": "code",
   "execution_count": 10,
   "id": "e4618700-7ee7-48ea-8b7c-1210ff2bbc19",
   "metadata": {},
   "outputs": [],
   "source": [
    "maestro[\"altitud\"] = maestro[\"altitud\"].astype(float)"
   ]
  },
  {
   "cell_type": "code",
   "execution_count": 11,
   "id": "295b2841-f2d9-45a5-896b-c743d1989ef7",
   "metadata": {},
   "outputs": [
    {
     "data": {
      "text/plain": [
       "capital          0.0\n",
       "latitud_dec      0.0\n",
       "altitud          0.0\n",
       "num_hab          0.0\n",
       "zona_comarcal    0.0\n",
       "longitud_dec     0.0\n",
       "dtype: float64"
      ]
     },
     "execution_count": 11,
     "metadata": {},
     "output_type": "execute_result"
    }
   ],
   "source": [
    "(maestro.isna().sum() / maestro.shape[0]) * 100"
   ]
  },
  {
   "cell_type": "code",
   "execution_count": 35,
   "id": "4965e7e2-3d78-4d3c-a4e4-4ca6d205617a",
   "metadata": {},
   "outputs": [],
   "source": [
    "maestro.to_csv(\"maestros limpieza2.csv\")"
   ]
  },
  {
   "cell_type": "code",
   "execution_count": null,
   "id": "e32749c2-320f-4cfa-950d-4a1b181ad3e3",
   "metadata": {},
   "outputs": [],
   "source": []
  },
  {
   "cell_type": "code",
   "execution_count": null,
   "id": "85b87950-3743-4c34-bd24-d0606e9bbca4",
   "metadata": {},
   "outputs": [],
   "source": []
  },
  {
   "cell_type": "code",
   "execution_count": null,
   "id": "481f23e8-03cc-49d4-b252-634cd181f9e0",
   "metadata": {},
   "outputs": [],
   "source": []
  },
  {
   "cell_type": "code",
   "execution_count": null,
   "id": "20be9449-4327-4634-82cb-255b8f15043c",
   "metadata": {},
   "outputs": [],
   "source": []
  },
  {
   "cell_type": "code",
   "execution_count": null,
   "id": "66dc9695-d827-487e-b179-5be9c1abe904",
   "metadata": {},
   "outputs": [],
   "source": []
  },
  {
   "cell_type": "code",
   "execution_count": null,
   "id": "c0c74b6d-f9e3-49e1-a9d4-41136ab504b4",
   "metadata": {},
   "outputs": [],
   "source": []
  },
  {
   "cell_type": "code",
   "execution_count": null,
   "id": "de924779-84f0-423e-bf3c-0a14bc136336",
   "metadata": {},
   "outputs": [],
   "source": []
  },
  {
   "cell_type": "code",
   "execution_count": null,
   "id": "415a9ca2-8a83-40cb-9543-f023666fd04b",
   "metadata": {},
   "outputs": [],
   "source": []
  }
 ],
 "metadata": {
  "kernelspec": {
   "display_name": "Python 3 (ipykernel)",
   "language": "python",
   "name": "python3"
  },
  "language_info": {
   "codemirror_mode": {
    "name": "ipython",
    "version": 3
   },
   "file_extension": ".py",
   "mimetype": "text/x-python",
   "name": "python",
   "nbconvert_exporter": "python",
   "pygments_lexer": "ipython3",
   "version": "3.11.7"
  }
 },
 "nbformat": 4,
 "nbformat_minor": 5
}
